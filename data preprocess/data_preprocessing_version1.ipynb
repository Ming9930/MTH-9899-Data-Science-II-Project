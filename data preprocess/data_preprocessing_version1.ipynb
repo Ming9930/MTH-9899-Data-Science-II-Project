{
 "cells": [
  {
   "cell_type": "markdown",
   "metadata": {},
   "source": [
    "# unzip file: only need to do it once"
   ]
  },
  {
   "cell_type": "code",
   "execution_count": null,
   "metadata": {},
   "outputs": [],
   "source": [
    "# unzip train.zip\n",
    "# import zipfile as zf\n",
    "\n",
    "# files = zf.ZipFile(\"train.zip\",'r')\n",
    "# files.extractall()\n",
    "# files.close()"
   ]
  },
  {
   "cell_type": "markdown",
   "metadata": {},
   "source": [
    "# load data"
   ]
  },
  {
   "cell_type": "code",
   "execution_count": 1,
   "metadata": {},
   "outputs": [],
   "source": [
    "import glob\n",
    "import pandas as pd\n",
    "import os\n",
    "import numpy as np\n",
    "import warnings\n",
    "warnings.filterwarnings(\"ignore\")"
   ]
  },
  {
   "cell_type": "code",
   "execution_count": 2,
   "metadata": {},
   "outputs": [],
   "source": [
    "def input_data(name, Id_range = None, add_Date = False):\n",
    "    files = glob.glob(r\"C:\\Users\\Lenovo\\Python_workshop\\project\\train\\\\\"+name+\"\\\\*.csv\")\n",
    "    if add_Date:\n",
    "        dfs = []\n",
    "        for f in files:\n",
    "            df = pd.read_csv(f, sep=\",\")\n",
    "            df['Date'] = f[-12:-4]\n",
    "            df = df[df.Id.isin(Id_range)]\n",
    "            dfs.append(df)\n",
    "    else:\n",
    "        dfs = [pd.read_csv(f, sep=\",\") for f in files]    \n",
    "    data = pd.concat(dfs,ignore_index=True)\n",
    "    data.Date = data.Date.apply(str)\n",
    "    return data"
   ]
  },
  {
   "cell_type": "code",
   "execution_count": 3,
   "metadata": {},
   "outputs": [
    {
     "data": {
      "text/html": [
       "<div>\n",
       "<style scoped>\n",
       "    .dataframe tbody tr th:only-of-type {\n",
       "        vertical-align: middle;\n",
       "    }\n",
       "\n",
       "    .dataframe tbody tr th {\n",
       "        vertical-align: top;\n",
       "    }\n",
       "\n",
       "    .dataframe thead th {\n",
       "        text-align: right;\n",
       "    }\n",
       "</style>\n",
       "<table border=\"1\" class=\"dataframe\">\n",
       "  <thead>\n",
       "    <tr style=\"text-align: right;\">\n",
       "      <th></th>\n",
       "      <th>Date</th>\n",
       "      <th>Time</th>\n",
       "      <th>Id</th>\n",
       "      <th>ResidualNoWinsorCumReturn</th>\n",
       "      <th>RawNoWinsorCumReturn</th>\n",
       "    </tr>\n",
       "  </thead>\n",
       "  <tbody>\n",
       "    <tr>\n",
       "      <th>0</th>\n",
       "      <td>20140102</td>\n",
       "      <td>10:00:00.000</td>\n",
       "      <td>IDZQ0003GF7</td>\n",
       "      <td>0.008795</td>\n",
       "      <td>0.008043</td>\n",
       "    </tr>\n",
       "    <tr>\n",
       "      <th>1</th>\n",
       "      <td>20140102</td>\n",
       "      <td>10:00:00.000</td>\n",
       "      <td>IDZQ00047M8</td>\n",
       "      <td>-0.007513</td>\n",
       "      <td>-0.008949</td>\n",
       "    </tr>\n",
       "    <tr>\n",
       "      <th>2</th>\n",
       "      <td>20140102</td>\n",
       "      <td>10:00:00.000</td>\n",
       "      <td>IDZQ00048R1</td>\n",
       "      <td>0.002052</td>\n",
       "      <td>0.001240</td>\n",
       "    </tr>\n",
       "    <tr>\n",
       "      <th>3</th>\n",
       "      <td>20140102</td>\n",
       "      <td>10:00:00.000</td>\n",
       "      <td>IDZQ0005R34</td>\n",
       "      <td>-0.007269</td>\n",
       "      <td>-0.006079</td>\n",
       "    </tr>\n",
       "    <tr>\n",
       "      <th>4</th>\n",
       "      <td>20140102</td>\n",
       "      <td>10:00:00.000</td>\n",
       "      <td>IDZQ0005SC2</td>\n",
       "      <td>-0.004682</td>\n",
       "      <td>-0.009140</td>\n",
       "    </tr>\n",
       "  </tbody>\n",
       "</table>\n",
       "</div>"
      ],
      "text/plain": [
       "       Date          Time           Id  ResidualNoWinsorCumReturn  \\\n",
       "0  20140102  10:00:00.000  IDZQ0003GF7                   0.008795   \n",
       "1  20140102  10:00:00.000  IDZQ00047M8                  -0.007513   \n",
       "2  20140102  10:00:00.000  IDZQ00048R1                   0.002052   \n",
       "3  20140102  10:00:00.000  IDZQ0005R34                  -0.007269   \n",
       "4  20140102  10:00:00.000  IDZQ0005SC2                  -0.004682   \n",
       "\n",
       "   RawNoWinsorCumReturn  \n",
       "0              0.008043  \n",
       "1             -0.008949  \n",
       "2              0.001240  \n",
       "3             -0.006079  \n",
       "4             -0.009140  "
      ]
     },
     "execution_count": 3,
     "metadata": {},
     "output_type": "execute_result"
    }
   ],
   "source": [
    "ret = input_data(\"return\")\n",
    "ret.head()"
   ]
  },
  {
   "cell_type": "code",
   "execution_count": 4,
   "metadata": {},
   "outputs": [
    {
     "data": {
      "text/html": [
       "<div>\n",
       "<style scoped>\n",
       "    .dataframe tbody tr th:only-of-type {\n",
       "        vertical-align: middle;\n",
       "    }\n",
       "\n",
       "    .dataframe tbody tr th {\n",
       "        vertical-align: top;\n",
       "    }\n",
       "\n",
       "    .dataframe thead th {\n",
       "        text-align: right;\n",
       "    }\n",
       "</style>\n",
       "<table border=\"1\" class=\"dataframe\">\n",
       "  <thead>\n",
       "    <tr style=\"text-align: right;\">\n",
       "      <th></th>\n",
       "      <th>Id</th>\n",
       "      <th>estVol</th>\n",
       "      <th>Date</th>\n",
       "    </tr>\n",
       "  </thead>\n",
       "  <tbody>\n",
       "    <tr>\n",
       "      <th>0</th>\n",
       "      <td>ID000BC6J11</td>\n",
       "      <td>0.158814</td>\n",
       "      <td>20140102</td>\n",
       "    </tr>\n",
       "    <tr>\n",
       "      <th>1</th>\n",
       "      <td>ID000BL7S92</td>\n",
       "      <td>0.119455</td>\n",
       "      <td>20140102</td>\n",
       "    </tr>\n",
       "    <tr>\n",
       "      <th>2</th>\n",
       "      <td>ID000BFGNH7</td>\n",
       "      <td>0.144518</td>\n",
       "      <td>20140102</td>\n",
       "    </tr>\n",
       "    <tr>\n",
       "      <th>3</th>\n",
       "      <td>ID000BW6697</td>\n",
       "      <td>0.167206</td>\n",
       "      <td>20140102</td>\n",
       "    </tr>\n",
       "    <tr>\n",
       "      <th>4</th>\n",
       "      <td>ID000BD9L75</td>\n",
       "      <td>0.162744</td>\n",
       "      <td>20140102</td>\n",
       "    </tr>\n",
       "  </tbody>\n",
       "</table>\n",
       "</div>"
      ],
      "text/plain": [
       "            Id    estVol      Date\n",
       "0  ID000BC6J11  0.158814  20140102\n",
       "1  ID000BL7S92  0.119455  20140102\n",
       "2  ID000BFGNH7  0.144518  20140102\n",
       "3  ID000BW6697  0.167206  20140102\n",
       "4  ID000BD9L75  0.162744  20140102"
      ]
     },
     "execution_count": 4,
     "metadata": {},
     "output_type": "execute_result"
    }
   ],
   "source": [
    "Id_range = ret.Id.unique()\n",
    "risk = input_data(\"risk\", Id_range = Id_range, add_Date = True)\n",
    "risk.head()"
   ]
  },
  {
   "cell_type": "code",
   "execution_count": 5,
   "metadata": {},
   "outputs": [],
   "source": [
    "ret = pd.merge(\n",
    "    ret,\n",
    "    risk,\n",
    "    how=\"left\",\n",
    "    on=['Date', 'Id'])"
   ]
  },
  {
   "cell_type": "code",
   "execution_count": 6,
   "metadata": {},
   "outputs": [
    {
     "data": {
      "text/html": [
       "<div>\n",
       "<style scoped>\n",
       "    .dataframe tbody tr th:only-of-type {\n",
       "        vertical-align: middle;\n",
       "    }\n",
       "\n",
       "    .dataframe tbody tr th {\n",
       "        vertical-align: top;\n",
       "    }\n",
       "\n",
       "    .dataframe thead th {\n",
       "        text-align: right;\n",
       "    }\n",
       "</style>\n",
       "<table border=\"1\" class=\"dataframe\">\n",
       "  <thead>\n",
       "    <tr style=\"text-align: right;\">\n",
       "      <th></th>\n",
       "      <th>Date</th>\n",
       "      <th>Id</th>\n",
       "      <th>MDV_63</th>\n",
       "    </tr>\n",
       "  </thead>\n",
       "  <tbody>\n",
       "    <tr>\n",
       "      <th>0</th>\n",
       "      <td>20140102</td>\n",
       "      <td>ID000B9WTK6</td>\n",
       "      <td>3739.80</td>\n",
       "    </tr>\n",
       "    <tr>\n",
       "      <th>1</th>\n",
       "      <td>20140102</td>\n",
       "      <td>ID000B9ZG12</td>\n",
       "      <td>811845.80</td>\n",
       "    </tr>\n",
       "    <tr>\n",
       "      <th>2</th>\n",
       "      <td>20140102</td>\n",
       "      <td>IDZQ0000RP5</td>\n",
       "      <td>2562546.50</td>\n",
       "    </tr>\n",
       "    <tr>\n",
       "      <th>3</th>\n",
       "      <td>20140102</td>\n",
       "      <td>IDZQ00028F6</td>\n",
       "      <td>103370.21</td>\n",
       "    </tr>\n",
       "    <tr>\n",
       "      <th>4</th>\n",
       "      <td>20140102</td>\n",
       "      <td>IDZQ0003GF7</td>\n",
       "      <td>4321539.00</td>\n",
       "    </tr>\n",
       "  </tbody>\n",
       "</table>\n",
       "</div>"
      ],
      "text/plain": [
       "       Date           Id      MDV_63\n",
       "0  20140102  ID000B9WTK6     3739.80\n",
       "1  20140102  ID000B9ZG12   811845.80\n",
       "2  20140102  IDZQ0000RP5  2562546.50\n",
       "3  20140102  IDZQ00028F6   103370.21\n",
       "4  20140102  IDZQ0003GF7  4321539.00"
      ]
     },
     "execution_count": 6,
     "metadata": {},
     "output_type": "execute_result"
    }
   ],
   "source": [
    "mdv = input_data(\"mdv\")\n",
    "mdv.head()"
   ]
  },
  {
   "cell_type": "code",
   "execution_count": 7,
   "metadata": {},
   "outputs": [
    {
     "data": {
      "text/html": [
       "<div>\n",
       "<style scoped>\n",
       "    .dataframe tbody tr th:only-of-type {\n",
       "        vertical-align: middle;\n",
       "    }\n",
       "\n",
       "    .dataframe tbody tr th {\n",
       "        vertical-align: top;\n",
       "    }\n",
       "\n",
       "    .dataframe thead th {\n",
       "        text-align: right;\n",
       "    }\n",
       "</style>\n",
       "<table border=\"1\" class=\"dataframe\">\n",
       "  <thead>\n",
       "    <tr style=\"text-align: right;\">\n",
       "      <th></th>\n",
       "      <th>Date</th>\n",
       "      <th>Time</th>\n",
       "      <th>Id</th>\n",
       "      <th>CleanMid</th>\n",
       "      <th>CumVolume</th>\n",
       "      <th>IsOpen</th>\n",
       "    </tr>\n",
       "  </thead>\n",
       "  <tbody>\n",
       "    <tr>\n",
       "      <th>0</th>\n",
       "      <td>20140102</td>\n",
       "      <td>10:00:00.000</td>\n",
       "      <td>IDZQ0003GF7</td>\n",
       "      <td>32.009570</td>\n",
       "      <td>30851.0</td>\n",
       "      <td>1.0</td>\n",
       "    </tr>\n",
       "    <tr>\n",
       "      <th>1</th>\n",
       "      <td>20140102</td>\n",
       "      <td>10:00:00.000</td>\n",
       "      <td>IDZQ00047M8</td>\n",
       "      <td>5.929723</td>\n",
       "      <td>100377.0</td>\n",
       "      <td>1.0</td>\n",
       "    </tr>\n",
       "    <tr>\n",
       "      <th>2</th>\n",
       "      <td>20140102</td>\n",
       "      <td>10:00:00.000</td>\n",
       "      <td>IDZQ00048R1</td>\n",
       "      <td>46.881290</td>\n",
       "      <td>118814.0</td>\n",
       "      <td>1.0</td>\n",
       "    </tr>\n",
       "    <tr>\n",
       "      <th>3</th>\n",
       "      <td>20140102</td>\n",
       "      <td>10:00:00.000</td>\n",
       "      <td>IDZQ0005R34</td>\n",
       "      <td>6.155510</td>\n",
       "      <td>57972.0</td>\n",
       "      <td>1.0</td>\n",
       "    </tr>\n",
       "    <tr>\n",
       "      <th>4</th>\n",
       "      <td>20140102</td>\n",
       "      <td>10:00:00.000</td>\n",
       "      <td>IDZQ0005SC2</td>\n",
       "      <td>27.234093</td>\n",
       "      <td>399523.0</td>\n",
       "      <td>1.0</td>\n",
       "    </tr>\n",
       "  </tbody>\n",
       "</table>\n",
       "</div>"
      ],
      "text/plain": [
       "       Date          Time           Id   CleanMid  CumVolume  IsOpen\n",
       "0  20140102  10:00:00.000  IDZQ0003GF7  32.009570    30851.0     1.0\n",
       "1  20140102  10:00:00.000  IDZQ00047M8   5.929723   100377.0     1.0\n",
       "2  20140102  10:00:00.000  IDZQ00048R1  46.881290   118814.0     1.0\n",
       "3  20140102  10:00:00.000  IDZQ0005R34   6.155510    57972.0     1.0\n",
       "4  20140102  10:00:00.000  IDZQ0005SC2  27.234093   399523.0     1.0"
      ]
     },
     "execution_count": 7,
     "metadata": {},
     "output_type": "execute_result"
    }
   ],
   "source": [
    "volume = input_data(\"price_volume\")\n",
    "volume.head()"
   ]
  },
  {
   "cell_type": "code",
   "execution_count": 8,
   "metadata": {},
   "outputs": [
    {
     "data": {
      "text/html": [
       "<div>\n",
       "<style scoped>\n",
       "    .dataframe tbody tr th:only-of-type {\n",
       "        vertical-align: middle;\n",
       "    }\n",
       "\n",
       "    .dataframe tbody tr th {\n",
       "        vertical-align: top;\n",
       "    }\n",
       "\n",
       "    .dataframe thead th {\n",
       "        text-align: right;\n",
       "    }\n",
       "</style>\n",
       "<table border=\"1\" class=\"dataframe\">\n",
       "  <thead>\n",
       "    <tr style=\"text-align: right;\">\n",
       "      <th></th>\n",
       "      <th>Date</th>\n",
       "      <th>Id</th>\n",
       "      <th>SharesOutstanding</th>\n",
       "    </tr>\n",
       "  </thead>\n",
       "  <tbody>\n",
       "    <tr>\n",
       "      <th>0</th>\n",
       "      <td>20140102</td>\n",
       "      <td>ID000B9WTK6</td>\n",
       "      <td>1.848</td>\n",
       "    </tr>\n",
       "    <tr>\n",
       "      <th>1</th>\n",
       "      <td>20140102</td>\n",
       "      <td>ID000B9ZG12</td>\n",
       "      <td>309.872</td>\n",
       "    </tr>\n",
       "    <tr>\n",
       "      <th>2</th>\n",
       "      <td>20140102</td>\n",
       "      <td>IDZQ0000RP5</td>\n",
       "      <td>402.458</td>\n",
       "    </tr>\n",
       "    <tr>\n",
       "      <th>3</th>\n",
       "      <td>20140102</td>\n",
       "      <td>IDZQ00028F6</td>\n",
       "      <td>126.594</td>\n",
       "    </tr>\n",
       "    <tr>\n",
       "      <th>4</th>\n",
       "      <td>20140102</td>\n",
       "      <td>IDZQ0003GF7</td>\n",
       "      <td>110.580</td>\n",
       "    </tr>\n",
       "  </tbody>\n",
       "</table>\n",
       "</div>"
      ],
      "text/plain": [
       "       Date           Id  SharesOutstanding\n",
       "0  20140102  ID000B9WTK6              1.848\n",
       "1  20140102  ID000B9ZG12            309.872\n",
       "2  20140102  IDZQ0000RP5            402.458\n",
       "3  20140102  IDZQ00028F6            126.594\n",
       "4  20140102  IDZQ0003GF7            110.580"
      ]
     },
     "execution_count": 8,
     "metadata": {},
     "output_type": "execute_result"
    }
   ],
   "source": [
    "shout = input_data(\"shout\")\n",
    "shout.head()"
   ]
  },
  {
   "cell_type": "code",
   "execution_count": 9,
   "metadata": {},
   "outputs": [],
   "source": [
    "ret = pd.merge(\n",
    "    ret,\n",
    "    shout,\n",
    "    how=\"left\",\n",
    "    on=['Date', 'Id'])"
   ]
  },
  {
   "cell_type": "code",
   "execution_count": 10,
   "metadata": {},
   "outputs": [],
   "source": [
    "ret = pd.merge(\n",
    "    ret,\n",
    "    mdv,\n",
    "    how=\"left\",\n",
    "    on=['Date','Id'])"
   ]
  },
  {
   "cell_type": "code",
   "execution_count": 11,
   "metadata": {},
   "outputs": [],
   "source": [
    "ret = pd.merge(\n",
    "    ret,\n",
    "    volume,\n",
    "    how=\"left\",\n",
    "    on=['Date','Time', 'Id'])"
   ]
  },
  {
   "cell_type": "code",
   "execution_count": 12,
   "metadata": {},
   "outputs": [
    {
     "data": {
      "text/html": [
       "<div>\n",
       "<style scoped>\n",
       "    .dataframe tbody tr th:only-of-type {\n",
       "        vertical-align: middle;\n",
       "    }\n",
       "\n",
       "    .dataframe tbody tr th {\n",
       "        vertical-align: top;\n",
       "    }\n",
       "\n",
       "    .dataframe thead th {\n",
       "        text-align: right;\n",
       "    }\n",
       "</style>\n",
       "<table border=\"1\" class=\"dataframe\">\n",
       "  <thead>\n",
       "    <tr style=\"text-align: right;\">\n",
       "      <th></th>\n",
       "      <th>Date</th>\n",
       "      <th>Time</th>\n",
       "      <th>Id</th>\n",
       "      <th>ResidualNoWinsorCumReturn</th>\n",
       "      <th>RawNoWinsorCumReturn</th>\n",
       "      <th>estVol</th>\n",
       "      <th>SharesOutstanding</th>\n",
       "      <th>MDV_63</th>\n",
       "      <th>CleanMid</th>\n",
       "      <th>CumVolume</th>\n",
       "      <th>IsOpen</th>\n",
       "    </tr>\n",
       "  </thead>\n",
       "  <tbody>\n",
       "    <tr>\n",
       "      <th>0</th>\n",
       "      <td>20140102</td>\n",
       "      <td>10:00:00.000</td>\n",
       "      <td>IDZQ0003GF7</td>\n",
       "      <td>0.008795</td>\n",
       "      <td>0.008043</td>\n",
       "      <td>0.093123</td>\n",
       "      <td>110.580</td>\n",
       "      <td>4321539.0</td>\n",
       "      <td>32.009570</td>\n",
       "      <td>30851.0</td>\n",
       "      <td>1.0</td>\n",
       "    </tr>\n",
       "    <tr>\n",
       "      <th>1</th>\n",
       "      <td>20140102</td>\n",
       "      <td>10:00:00.000</td>\n",
       "      <td>IDZQ00047M8</td>\n",
       "      <td>-0.007513</td>\n",
       "      <td>-0.008949</td>\n",
       "      <td>0.129865</td>\n",
       "      <td>449.750</td>\n",
       "      <td>7728599.0</td>\n",
       "      <td>5.929723</td>\n",
       "      <td>100377.0</td>\n",
       "      <td>1.0</td>\n",
       "    </tr>\n",
       "    <tr>\n",
       "      <th>2</th>\n",
       "      <td>20140102</td>\n",
       "      <td>10:00:00.000</td>\n",
       "      <td>IDZQ00048R1</td>\n",
       "      <td>0.002052</td>\n",
       "      <td>0.001240</td>\n",
       "      <td>0.151308</td>\n",
       "      <td>227.481</td>\n",
       "      <td>34529812.0</td>\n",
       "      <td>46.881290</td>\n",
       "      <td>118814.0</td>\n",
       "      <td>1.0</td>\n",
       "    </tr>\n",
       "    <tr>\n",
       "      <th>3</th>\n",
       "      <td>20140102</td>\n",
       "      <td>10:00:00.000</td>\n",
       "      <td>IDZQ0005R34</td>\n",
       "      <td>-0.007269</td>\n",
       "      <td>-0.006079</td>\n",
       "      <td>0.122016</td>\n",
       "      <td>575.375</td>\n",
       "      <td>2318102.2</td>\n",
       "      <td>6.155510</td>\n",
       "      <td>57972.0</td>\n",
       "      <td>1.0</td>\n",
       "    </tr>\n",
       "    <tr>\n",
       "      <th>4</th>\n",
       "      <td>20140102</td>\n",
       "      <td>10:00:00.000</td>\n",
       "      <td>IDZQ0005SC2</td>\n",
       "      <td>-0.004682</td>\n",
       "      <td>-0.009140</td>\n",
       "      <td>0.066838</td>\n",
       "      <td>839.394</td>\n",
       "      <td>66501836.0</td>\n",
       "      <td>27.234093</td>\n",
       "      <td>399523.0</td>\n",
       "      <td>1.0</td>\n",
       "    </tr>\n",
       "  </tbody>\n",
       "</table>\n",
       "</div>"
      ],
      "text/plain": [
       "       Date          Time           Id  ResidualNoWinsorCumReturn  \\\n",
       "0  20140102  10:00:00.000  IDZQ0003GF7                   0.008795   \n",
       "1  20140102  10:00:00.000  IDZQ00047M8                  -0.007513   \n",
       "2  20140102  10:00:00.000  IDZQ00048R1                   0.002052   \n",
       "3  20140102  10:00:00.000  IDZQ0005R34                  -0.007269   \n",
       "4  20140102  10:00:00.000  IDZQ0005SC2                  -0.004682   \n",
       "\n",
       "   RawNoWinsorCumReturn    estVol  SharesOutstanding      MDV_63   CleanMid  \\\n",
       "0              0.008043  0.093123            110.580   4321539.0  32.009570   \n",
       "1             -0.008949  0.129865            449.750   7728599.0   5.929723   \n",
       "2              0.001240  0.151308            227.481  34529812.0  46.881290   \n",
       "3             -0.006079  0.122016            575.375   2318102.2   6.155510   \n",
       "4             -0.009140  0.066838            839.394  66501836.0  27.234093   \n",
       "\n",
       "   CumVolume  IsOpen  \n",
       "0    30851.0     1.0  \n",
       "1   100377.0     1.0  \n",
       "2   118814.0     1.0  \n",
       "3    57972.0     1.0  \n",
       "4   399523.0     1.0  "
      ]
     },
     "execution_count": 12,
     "metadata": {},
     "output_type": "execute_result"
    }
   ],
   "source": [
    "ret.head()"
   ]
  },
  {
   "cell_type": "markdown",
   "metadata": {},
   "source": [
    "# missing value"
   ]
  },
  {
   "cell_type": "code",
   "execution_count": 13,
   "metadata": {},
   "outputs": [
    {
     "data": {
      "text/plain": [
       "(Date                              0\n",
       " Time                              0\n",
       " Id                                0\n",
       " ResidualNoWinsorCumReturn         0\n",
       " RawNoWinsorCumReturn              0\n",
       " estVol                            0\n",
       " SharesOutstanding                84\n",
       " MDV_63                            6\n",
       " CleanMid                     254473\n",
       " CumVolume                    254473\n",
       " IsOpen                       254473\n",
       " dtype: int64, (2448284, 11))"
      ]
     },
     "execution_count": 13,
     "metadata": {},
     "output_type": "execute_result"
    }
   ],
   "source": [
    "# get the number of missing data points per column\n",
    "missing_values_count = ret.isnull().sum()\n",
    "missing_values_count, ret.shape"
   ]
  },
  {
   "cell_type": "markdown",
   "metadata": {},
   "source": [
    "## dropna"
   ]
  },
  {
   "cell_type": "code",
   "execution_count": 14,
   "metadata": {},
   "outputs": [
    {
     "name": "stdout",
     "output_type": "stream",
     "text": [
      "2.8350432013160685\n"
     ]
    }
   ],
   "source": [
    "# how many total missing values do we have?\n",
    "total_cells = np.product(ret.shape)\n",
    "total_missing = missing_values_count.sum()\n",
    "\n",
    "# percent of data that is missing\n",
    "percent_missing = (total_missing/total_cells) * 100\n",
    "print(percent_missing)\n",
    "\n",
    "# remove all the rows that contain a missing value\n",
    "ret = ret.dropna()"
   ]
  },
  {
   "cell_type": "markdown",
   "metadata": {},
   "source": [
    "# fillna: haven't been run yet"
   ]
  },
  {
   "cell_type": "code",
   "execution_count": null,
   "metadata": {},
   "outputs": [],
   "source": [
    "from sklearn.impute import SimpleImputer\n",
    "\n",
    "# Imputation\n",
    "my_imputer = SimpleImputer()\n",
    "imputed_ret_train = pd.DataFrame(my_imputer.fit_transform(ret_train))\n",
    "imputed_ret_valid = pd.DataFrame(my_imputer.transform(ret_valid))\n",
    "\n",
    "# Imputation removed column names; put them back\n",
    "imputed_ret_train.columns = ret_train.columns\n",
    "imputed_ret_valid.columns = ret_valid.columns"
   ]
  },
  {
   "cell_type": "markdown",
   "metadata": {},
   "source": [
    "# summary"
   ]
  },
  {
   "cell_type": "code",
   "execution_count": 15,
   "metadata": {},
   "outputs": [
    {
     "data": {
      "text/plain": [
       "(2193760, 11)"
      ]
     },
     "execution_count": 15,
     "metadata": {},
     "output_type": "execute_result"
    }
   ],
   "source": [
    "ret.shape"
   ]
  },
  {
   "cell_type": "code",
   "execution_count": 16,
   "metadata": {},
   "outputs": [
    {
     "data": {
      "text/plain": [
       "1251"
      ]
     },
     "execution_count": 16,
     "metadata": {},
     "output_type": "execute_result"
    }
   ],
   "source": [
    "len(ret.Id.unique())"
   ]
  },
  {
   "cell_type": "code",
   "execution_count": 17,
   "metadata": {},
   "outputs": [
    {
     "data": {
      "text/plain": [
       "1026"
      ]
     },
     "execution_count": 17,
     "metadata": {},
     "output_type": "execute_result"
    }
   ],
   "source": [
    "date_range = ret.Date.unique()\n",
    "len(date_range)"
   ]
  },
  {
   "cell_type": "markdown",
   "metadata": {},
   "source": [
    "# winsorization"
   ]
  },
  {
   "cell_type": "code",
   "execution_count": 18,
   "metadata": {},
   "outputs": [],
   "source": [
    "import matplotlib.pyplot as plt"
   ]
  },
  {
   "cell_type": "code",
   "execution_count": 19,
   "metadata": {},
   "outputs": [
    {
     "data": {
      "text/plain": [
       "['ResidualNoWinsorCumReturn',\n",
       " 'RawNoWinsorCumReturn',\n",
       " 'estVol',\n",
       " 'SharesOutstanding',\n",
       " 'MDV_63',\n",
       " 'CleanMid',\n",
       " 'CumVolume']"
      ]
     },
     "execution_count": 19,
     "metadata": {},
     "output_type": "execute_result"
    }
   ],
   "source": [
    "# extract numeric columns\n",
    "numeric_columns = list(ret.dtypes[ret.dtypes != \"object\"].index)\n",
    "numeric_columns.remove('IsOpen')\n",
    "numeric_columns"
   ]
  },
  {
   "cell_type": "markdown",
   "metadata": {},
   "source": [
    "## cross-sectional winsorize"
   ]
  },
  {
   "cell_type": "code",
   "execution_count": 20,
   "metadata": {},
   "outputs": [],
   "source": [
    "from statistics import median"
   ]
  },
  {
   "cell_type": "code",
   "execution_count": 33,
   "metadata": {},
   "outputs": [],
   "source": [
    "for feature in numeric_columns:   \n",
    "    ret[str(feature+' winsorized')] = np.zeros(ret.shape[0])\n",
    "    #for date in ['20140102','20140103']:  \n",
    "    for date in date_range:  \n",
    "        # compute limits\n",
    "        mad = ret[ret.Date==date][feature].mad()\n",
    "        med = median(ret[ret.Date==date][feature])        \n",
    "        llimit, ulimit = med - 5*mad, med + 5*mad\n",
    "        \n",
    "        # Create winsorized versions of the features with new column names        \n",
    "        ret[str(feature+' winsorized')][ret.Date==date] = np.clip(ret[ret.Date==date][feature],llimit, ulimit)\n",
    "        "
   ]
  },
  {
   "cell_type": "code",
   "execution_count": 34,
   "metadata": {},
   "outputs": [
    {
     "data": {
      "text/html": [
       "<div>\n",
       "<style scoped>\n",
       "    .dataframe tbody tr th:only-of-type {\n",
       "        vertical-align: middle;\n",
       "    }\n",
       "\n",
       "    .dataframe tbody tr th {\n",
       "        vertical-align: top;\n",
       "    }\n",
       "\n",
       "    .dataframe thead th {\n",
       "        text-align: right;\n",
       "    }\n",
       "</style>\n",
       "<table border=\"1\" class=\"dataframe\">\n",
       "  <thead>\n",
       "    <tr style=\"text-align: right;\">\n",
       "      <th></th>\n",
       "      <th>Date</th>\n",
       "      <th>Time</th>\n",
       "      <th>Id</th>\n",
       "      <th>ResidualNoWinsorCumReturn</th>\n",
       "      <th>RawNoWinsorCumReturn</th>\n",
       "      <th>estVol</th>\n",
       "      <th>SharesOutstanding</th>\n",
       "      <th>MDV_63</th>\n",
       "      <th>CleanMid</th>\n",
       "      <th>CumVolume</th>\n",
       "      <th>IsOpen</th>\n",
       "      <th>ResidualNoWinsorCumReturn winsorized</th>\n",
       "      <th>RawNoWinsorCumReturn winsorized</th>\n",
       "      <th>estVol winsorized</th>\n",
       "      <th>SharesOutstanding winsorized</th>\n",
       "      <th>MDV_63 winsorized</th>\n",
       "      <th>CleanMid winsorized</th>\n",
       "      <th>CumVolume winsorized</th>\n",
       "    </tr>\n",
       "  </thead>\n",
       "  <tbody>\n",
       "    <tr>\n",
       "      <th>0</th>\n",
       "      <td>20140102</td>\n",
       "      <td>10:00:00.000</td>\n",
       "      <td>IDZQ0003GF7</td>\n",
       "      <td>0.008795</td>\n",
       "      <td>0.008043</td>\n",
       "      <td>0.093123</td>\n",
       "      <td>110.580</td>\n",
       "      <td>4321539.0</td>\n",
       "      <td>32.009570</td>\n",
       "      <td>30851.0</td>\n",
       "      <td>1.0</td>\n",
       "      <td>0.008795</td>\n",
       "      <td>0.008043</td>\n",
       "      <td>0.093123</td>\n",
       "      <td>110.580</td>\n",
       "      <td>4321539.0</td>\n",
       "      <td>32.009570</td>\n",
       "      <td>30851.0</td>\n",
       "    </tr>\n",
       "    <tr>\n",
       "      <th>1</th>\n",
       "      <td>20140102</td>\n",
       "      <td>10:00:00.000</td>\n",
       "      <td>IDZQ00047M8</td>\n",
       "      <td>-0.007513</td>\n",
       "      <td>-0.008949</td>\n",
       "      <td>0.129865</td>\n",
       "      <td>449.750</td>\n",
       "      <td>7728599.0</td>\n",
       "      <td>5.929723</td>\n",
       "      <td>100377.0</td>\n",
       "      <td>1.0</td>\n",
       "      <td>-0.007513</td>\n",
       "      <td>-0.008949</td>\n",
       "      <td>0.129865</td>\n",
       "      <td>449.750</td>\n",
       "      <td>7728599.0</td>\n",
       "      <td>5.929723</td>\n",
       "      <td>100377.0</td>\n",
       "    </tr>\n",
       "    <tr>\n",
       "      <th>2</th>\n",
       "      <td>20140102</td>\n",
       "      <td>10:00:00.000</td>\n",
       "      <td>IDZQ00048R1</td>\n",
       "      <td>0.002052</td>\n",
       "      <td>0.001240</td>\n",
       "      <td>0.151308</td>\n",
       "      <td>227.481</td>\n",
       "      <td>34529812.0</td>\n",
       "      <td>46.881290</td>\n",
       "      <td>118814.0</td>\n",
       "      <td>1.0</td>\n",
       "      <td>0.002052</td>\n",
       "      <td>0.001240</td>\n",
       "      <td>0.151308</td>\n",
       "      <td>227.481</td>\n",
       "      <td>34529812.0</td>\n",
       "      <td>46.881290</td>\n",
       "      <td>118814.0</td>\n",
       "    </tr>\n",
       "    <tr>\n",
       "      <th>3</th>\n",
       "      <td>20140102</td>\n",
       "      <td>10:00:00.000</td>\n",
       "      <td>IDZQ0005R34</td>\n",
       "      <td>-0.007269</td>\n",
       "      <td>-0.006079</td>\n",
       "      <td>0.122016</td>\n",
       "      <td>575.375</td>\n",
       "      <td>2318102.2</td>\n",
       "      <td>6.155510</td>\n",
       "      <td>57972.0</td>\n",
       "      <td>1.0</td>\n",
       "      <td>-0.007269</td>\n",
       "      <td>-0.006079</td>\n",
       "      <td>0.122016</td>\n",
       "      <td>575.375</td>\n",
       "      <td>2318102.2</td>\n",
       "      <td>6.155510</td>\n",
       "      <td>57972.0</td>\n",
       "    </tr>\n",
       "    <tr>\n",
       "      <th>4</th>\n",
       "      <td>20140102</td>\n",
       "      <td>10:00:00.000</td>\n",
       "      <td>IDZQ0005SC2</td>\n",
       "      <td>-0.004682</td>\n",
       "      <td>-0.009140</td>\n",
       "      <td>0.066838</td>\n",
       "      <td>839.394</td>\n",
       "      <td>66501836.0</td>\n",
       "      <td>27.234093</td>\n",
       "      <td>399523.0</td>\n",
       "      <td>1.0</td>\n",
       "      <td>-0.004682</td>\n",
       "      <td>-0.009140</td>\n",
       "      <td>0.066838</td>\n",
       "      <td>839.394</td>\n",
       "      <td>66501836.0</td>\n",
       "      <td>27.234093</td>\n",
       "      <td>399523.0</td>\n",
       "    </tr>\n",
       "  </tbody>\n",
       "</table>\n",
       "</div>"
      ],
      "text/plain": [
       "       Date          Time           Id  ResidualNoWinsorCumReturn  \\\n",
       "0  20140102  10:00:00.000  IDZQ0003GF7                   0.008795   \n",
       "1  20140102  10:00:00.000  IDZQ00047M8                  -0.007513   \n",
       "2  20140102  10:00:00.000  IDZQ00048R1                   0.002052   \n",
       "3  20140102  10:00:00.000  IDZQ0005R34                  -0.007269   \n",
       "4  20140102  10:00:00.000  IDZQ0005SC2                  -0.004682   \n",
       "\n",
       "   RawNoWinsorCumReturn    estVol  SharesOutstanding      MDV_63   CleanMid  \\\n",
       "0              0.008043  0.093123            110.580   4321539.0  32.009570   \n",
       "1             -0.008949  0.129865            449.750   7728599.0   5.929723   \n",
       "2              0.001240  0.151308            227.481  34529812.0  46.881290   \n",
       "3             -0.006079  0.122016            575.375   2318102.2   6.155510   \n",
       "4             -0.009140  0.066838            839.394  66501836.0  27.234093   \n",
       "\n",
       "   CumVolume  IsOpen  ResidualNoWinsorCumReturn winsorized  \\\n",
       "0    30851.0     1.0                              0.008795   \n",
       "1   100377.0     1.0                             -0.007513   \n",
       "2   118814.0     1.0                              0.002052   \n",
       "3    57972.0     1.0                             -0.007269   \n",
       "4   399523.0     1.0                             -0.004682   \n",
       "\n",
       "   RawNoWinsorCumReturn winsorized  estVol winsorized  \\\n",
       "0                         0.008043           0.093123   \n",
       "1                        -0.008949           0.129865   \n",
       "2                         0.001240           0.151308   \n",
       "3                        -0.006079           0.122016   \n",
       "4                        -0.009140           0.066838   \n",
       "\n",
       "   SharesOutstanding winsorized  MDV_63 winsorized  CleanMid winsorized  \\\n",
       "0                       110.580          4321539.0            32.009570   \n",
       "1                       449.750          7728599.0             5.929723   \n",
       "2                       227.481         34529812.0            46.881290   \n",
       "3                       575.375          2318102.2             6.155510   \n",
       "4                       839.394         66501836.0            27.234093   \n",
       "\n",
       "   CumVolume winsorized  \n",
       "0               30851.0  \n",
       "1              100377.0  \n",
       "2              118814.0  \n",
       "3               57972.0  \n",
       "4              399523.0  "
      ]
     },
     "execution_count": 34,
     "metadata": {},
     "output_type": "execute_result"
    }
   ],
   "source": [
    "ret.head()"
   ]
  },
  {
   "cell_type": "code",
   "execution_count": 31,
   "metadata": {},
   "outputs": [
    {
     "data": {
      "text/plain": [
       "(2193760, 18)"
      ]
     },
     "execution_count": 31,
     "metadata": {},
     "output_type": "execute_result"
    }
   ],
   "source": [
    "ret.shape"
   ]
  },
  {
   "cell_type": "code",
   "execution_count": null,
   "metadata": {},
   "outputs": [],
   "source": [
    "ret_train = ret[~ret.Date.str.contains('2017')]\n",
    "ret_test = ret[ret.Date.str.contains('2017')]"
   ]
  },
  {
   "cell_type": "markdown",
   "metadata": {},
   "source": [
    "## all data winsorize: don't use"
   ]
  },
  {
   "cell_type": "code",
   "execution_count": null,
   "metadata": {},
   "outputs": [],
   "source": [
    "for feature in numeric_columns:   \n",
    "    plt.boxplot(ret_train[feature])\n",
    "    plt.title(str(feature))\n",
    "    plt.show()"
   ]
  },
  {
   "cell_type": "code",
   "execution_count": null,
   "metadata": {},
   "outputs": [],
   "source": [
    "def winsorization(data1, data2, feature, percnt1, percnt2, plot = True):\n",
    "    # Only use train data to choose winsorization limits for these features\n",
    "    llimit = np.percentile(data1[feature],percnt1)\n",
    "    ulimit = np.percentile(data1[feature],percnt2)\n",
    "    \n",
    "    # Perform winsorization on both training and test data\n",
    "    # Create winsorized versions of the features with new column names\n",
    "    data1[str(feature+' winsorized')] = np.clip(data1[feature], llimit, ulimit)\n",
    "    data2[str(feature+' winsorized')] = np.clip(data2[feature], llimit, ulimit)\n",
    "    \n",
    "    # plot the histogram after winsorization\n",
    "    if plot:\n",
    "        plt.boxplot(data1[str(feature+' winsorized')])\n",
    "        plt.title(str(feature+' winsorized'))\n",
    "        plt.show()"
   ]
  },
  {
   "cell_type": "code",
   "execution_count": null,
   "metadata": {},
   "outputs": [],
   "source": [
    "winsorization(ret_train, ret_test, 'ResidualNoWinsorCumReturn', 0.05, 99.5)"
   ]
  },
  {
   "cell_type": "code",
   "execution_count": null,
   "metadata": {},
   "outputs": [],
   "source": [
    "winsorization(ret_train, ret_test, 'RawNoWinsorCumReturn', 0.05, 99.5)"
   ]
  },
  {
   "cell_type": "code",
   "execution_count": null,
   "metadata": {},
   "outputs": [],
   "source": [
    "winsorization(ret_train, ret_test, 'SharesOutstanding', 0, 99.5)"
   ]
  },
  {
   "cell_type": "code",
   "execution_count": null,
   "metadata": {},
   "outputs": [],
   "source": [
    "winsorization(ret_train, ret_test, 'CumVolume', 0, 99.5)"
   ]
  },
  {
   "cell_type": "code",
   "execution_count": null,
   "metadata": {},
   "outputs": [],
   "source": []
  }
 ],
 "metadata": {
  "kernelspec": {
   "display_name": "Python 3",
   "language": "python",
   "name": "python3"
  },
  "language_info": {
   "codemirror_mode": {
    "name": "ipython",
    "version": 3
   },
   "file_extension": ".py",
   "mimetype": "text/x-python",
   "name": "python",
   "nbconvert_exporter": "python",
   "pygments_lexer": "ipython3",
   "version": "3.7.0"
  }
 },
 "nbformat": 4,
 "nbformat_minor": 2
}
